{
 "cells": [
  {
   "cell_type": "markdown",
   "id": "9fa1dd53-0fa9-4932-849f-5113b9d07630",
   "metadata": {},
   "source": [
    "# Data Analysis Amazom Prime Video Tv Shows"
   ]
  },
  {
   "cell_type": "markdown",
   "id": "0a5655a7-dab1-43dc-9992-0b009288c864",
   "metadata": {},
   "source": [
    "## Imports"
   ]
  },
  {
   "cell_type": "code",
   "execution_count": 1,
   "id": "5069df2a-4314-42f9-9344-569471c102ce",
   "metadata": {},
   "outputs": [],
   "source": [
    "# import pandas library of data cleaning and manipulation\n",
    "import pandas as pd"
   ]
  },
  {
   "cell_type": "markdown",
   "id": "075146b8-17b9-493c-a39f-4a621b4b3fbf",
   "metadata": {},
   "source": [
    "## Load Data"
   ]
  },
  {
   "cell_type": "code",
   "execution_count": 2,
   "id": "7125147a-92d7-496a-8d73-fa0697f52ed1",
   "metadata": {},
   "outputs": [],
   "source": [
    "# Data link https://www.kaggle.com/datasets/dgoenrique/amazon-prime-movies-and-tv-shows/data\n",
    "# read csv file into a DataFrame giving it a variable df\n",
    "# df = pd.read_csv(\"data/titles.csv\", index_col=\"id\")\n",
    "df = pd.read_csv(\"data/titles.csv\")"
   ]
  },
  {
   "cell_type": "markdown",
   "id": "f29ed08c-feb2-43d7-8e38-b501aa0e261f",
   "metadata": {},
   "source": [
    "## Use functions and Instances to understand the data"
   ]
  },
  {
   "cell_type": "markdown",
   "id": "e4e47ba6-501b-42fd-bca9-254438ec6438",
   "metadata": {},
   "source": [
    "### Head function"
   ]
  },
  {
   "cell_type": "code",
   "execution_count": 3,
   "id": "e5e39601-249b-4282-a79c-f1a180318ccf",
   "metadata": {},
   "outputs": [
    {
     "data": {
      "text/html": [
       "<div>\n",
       "<style scoped>\n",
       "    .dataframe tbody tr th:only-of-type {\n",
       "        vertical-align: middle;\n",
       "    }\n",
       "\n",
       "    .dataframe tbody tr th {\n",
       "        vertical-align: top;\n",
       "    }\n",
       "\n",
       "    .dataframe thead th {\n",
       "        text-align: right;\n",
       "    }\n",
       "</style>\n",
       "<table border=\"1\" class=\"dataframe\">\n",
       "  <thead>\n",
       "    <tr style=\"text-align: right;\">\n",
       "      <th></th>\n",
       "      <th>id</th>\n",
       "      <th>title</th>\n",
       "      <th>type</th>\n",
       "      <th>description</th>\n",
       "      <th>release_year</th>\n",
       "      <th>age_certification</th>\n",
       "      <th>runtime</th>\n",
       "      <th>genres</th>\n",
       "      <th>production_countries</th>\n",
       "      <th>seasons</th>\n",
       "      <th>imdb_id</th>\n",
       "      <th>imdb_score</th>\n",
       "      <th>imdb_votes</th>\n",
       "      <th>tmdb_popularity</th>\n",
       "      <th>tmdb_score</th>\n",
       "    </tr>\n",
       "  </thead>\n",
       "  <tbody>\n",
       "    <tr>\n",
       "      <th>0</th>\n",
       "      <td>tm87233</td>\n",
       "      <td>It's a Wonderful Life</td>\n",
       "      <td>MOVIE</td>\n",
       "      <td>A holiday favourite for generations...  George...</td>\n",
       "      <td>1946</td>\n",
       "      <td>PG</td>\n",
       "      <td>130</td>\n",
       "      <td>['drama', 'family', 'fantasy', 'romance', 'com...</td>\n",
       "      <td>['US']</td>\n",
       "      <td>NaN</td>\n",
       "      <td>tt0038650</td>\n",
       "      <td>8.6</td>\n",
       "      <td>467766.0</td>\n",
       "      <td>27.611</td>\n",
       "      <td>8.261</td>\n",
       "    </tr>\n",
       "    <tr>\n",
       "      <th>1</th>\n",
       "      <td>tm143047</td>\n",
       "      <td>Duck Soup</td>\n",
       "      <td>MOVIE</td>\n",
       "      <td>Rufus T. Firefly is named president/dictator o...</td>\n",
       "      <td>1933</td>\n",
       "      <td>NaN</td>\n",
       "      <td>69</td>\n",
       "      <td>['comedy', 'war']</td>\n",
       "      <td>['US']</td>\n",
       "      <td>NaN</td>\n",
       "      <td>tt0023969</td>\n",
       "      <td>7.8</td>\n",
       "      <td>60933.0</td>\n",
       "      <td>9.013</td>\n",
       "      <td>7.357</td>\n",
       "    </tr>\n",
       "    <tr>\n",
       "      <th>2</th>\n",
       "      <td>tm83884</td>\n",
       "      <td>His Girl Friday</td>\n",
       "      <td>MOVIE</td>\n",
       "      <td>Hildy, the journalist former wife of newspaper...</td>\n",
       "      <td>1940</td>\n",
       "      <td>NaN</td>\n",
       "      <td>92</td>\n",
       "      <td>['drama', 'romance', 'comedy']</td>\n",
       "      <td>['US']</td>\n",
       "      <td>NaN</td>\n",
       "      <td>tt0032599</td>\n",
       "      <td>7.8</td>\n",
       "      <td>60244.0</td>\n",
       "      <td>14.759</td>\n",
       "      <td>7.433</td>\n",
       "    </tr>\n",
       "  </tbody>\n",
       "</table>\n",
       "</div>"
      ],
      "text/plain": [
       "         id                  title   type  \\\n",
       "0   tm87233  It's a Wonderful Life  MOVIE   \n",
       "1  tm143047              Duck Soup  MOVIE   \n",
       "2   tm83884        His Girl Friday  MOVIE   \n",
       "\n",
       "                                         description  release_year  \\\n",
       "0  A holiday favourite for generations...  George...          1946   \n",
       "1  Rufus T. Firefly is named president/dictator o...          1933   \n",
       "2  Hildy, the journalist former wife of newspaper...          1940   \n",
       "\n",
       "  age_certification  runtime  \\\n",
       "0                PG      130   \n",
       "1               NaN       69   \n",
       "2               NaN       92   \n",
       "\n",
       "                                              genres production_countries  \\\n",
       "0  ['drama', 'family', 'fantasy', 'romance', 'com...               ['US']   \n",
       "1                                  ['comedy', 'war']               ['US']   \n",
       "2                     ['drama', 'romance', 'comedy']               ['US']   \n",
       "\n",
       "   seasons    imdb_id  imdb_score  imdb_votes  tmdb_popularity  tmdb_score  \n",
       "0      NaN  tt0038650         8.6    467766.0           27.611       8.261  \n",
       "1      NaN  tt0023969         7.8     60933.0            9.013       7.357  \n",
       "2      NaN  tt0032599         7.8     60244.0           14.759       7.433  "
      ]
     },
     "execution_count": 3,
     "metadata": {},
     "output_type": "execute_result"
    }
   ],
   "source": [
    "# get a preview of the initial rows of the dataset\n",
    "df.head(3)"
   ]
  },
  {
   "cell_type": "markdown",
   "id": "8c61c759-8338-45d5-ac92-233f93aa6dea",
   "metadata": {},
   "source": [
    "### Shape attribute"
   ]
  },
  {
   "cell_type": "code",
   "execution_count": 4,
   "id": "979ffd8f-d30b-4574-91a0-2ceb77c63bdb",
   "metadata": {},
   "outputs": [
    {
     "data": {
      "text/plain": [
       "(10873, 15)"
      ]
     },
     "execution_count": 4,
     "metadata": {},
     "output_type": "execute_result"
    }
   ],
   "source": [
    "# use shape attribute to know the dimensions of the dataset: returns a tuple \n",
    "df.shape"
   ]
  },
  {
   "cell_type": "code",
   "execution_count": 5,
   "id": "87aac72b-1059-4bfd-968b-62bcb7f622a1",
   "metadata": {},
   "outputs": [
    {
     "data": {
      "text/html": [
       "<div>\n",
       "<style scoped>\n",
       "    .dataframe tbody tr th:only-of-type {\n",
       "        vertical-align: middle;\n",
       "    }\n",
       "\n",
       "    .dataframe tbody tr th {\n",
       "        vertical-align: top;\n",
       "    }\n",
       "\n",
       "    .dataframe thead th {\n",
       "        text-align: right;\n",
       "    }\n",
       "</style>\n",
       "<table border=\"1\" class=\"dataframe\">\n",
       "  <thead>\n",
       "    <tr style=\"text-align: right;\">\n",
       "      <th></th>\n",
       "      <th>release_year</th>\n",
       "      <th>runtime</th>\n",
       "      <th>seasons</th>\n",
       "      <th>imdb_score</th>\n",
       "      <th>imdb_votes</th>\n",
       "      <th>tmdb_popularity</th>\n",
       "      <th>tmdb_score</th>\n",
       "    </tr>\n",
       "  </thead>\n",
       "  <tbody>\n",
       "    <tr>\n",
       "      <th>count</th>\n",
       "      <td>10873.000000</td>\n",
       "      <td>10873.000000</td>\n",
       "      <td>1551.000000</td>\n",
       "      <td>9765.000000</td>\n",
       "      <td>9.753000e+03</td>\n",
       "      <td>10302.000000</td>\n",
       "      <td>8747.000000</td>\n",
       "    </tr>\n",
       "    <tr>\n",
       "      <th>mean</th>\n",
       "      <td>2004.077807</td>\n",
       "      <td>85.869033</td>\n",
       "      <td>2.661509</td>\n",
       "      <td>5.970558</td>\n",
       "      <td>8.973232e+03</td>\n",
       "      <td>7.614083</td>\n",
       "      <td>5.977729</td>\n",
       "    </tr>\n",
       "    <tr>\n",
       "      <th>std</th>\n",
       "      <td>24.883711</td>\n",
       "      <td>34.156332</td>\n",
       "      <td>3.719633</td>\n",
       "      <td>1.362815</td>\n",
       "      <td>4.897767e+04</td>\n",
       "      <td>45.845289</td>\n",
       "      <td>1.512941</td>\n",
       "    </tr>\n",
       "    <tr>\n",
       "      <th>min</th>\n",
       "      <td>1912.000000</td>\n",
       "      <td>0.000000</td>\n",
       "      <td>1.000000</td>\n",
       "      <td>1.100000</td>\n",
       "      <td>5.000000e+00</td>\n",
       "      <td>0.000153</td>\n",
       "      <td>0.500000</td>\n",
       "    </tr>\n",
       "    <tr>\n",
       "      <th>25%</th>\n",
       "      <td>2002.000000</td>\n",
       "      <td>65.000000</td>\n",
       "      <td>1.000000</td>\n",
       "      <td>5.100000</td>\n",
       "      <td>1.190000e+02</td>\n",
       "      <td>1.327250</td>\n",
       "      <td>5.066500</td>\n",
       "    </tr>\n",
       "    <tr>\n",
       "      <th>50%</th>\n",
       "      <td>2015.000000</td>\n",
       "      <td>89.000000</td>\n",
       "      <td>1.000000</td>\n",
       "      <td>6.100000</td>\n",
       "      <td>4.880000e+02</td>\n",
       "      <td>2.658500</td>\n",
       "      <td>6.000000</td>\n",
       "    </tr>\n",
       "    <tr>\n",
       "      <th>75%</th>\n",
       "      <td>2019.000000</td>\n",
       "      <td>102.000000</td>\n",
       "      <td>3.000000</td>\n",
       "      <td>7.000000</td>\n",
       "      <td>2.493000e+03</td>\n",
       "      <td>6.185000</td>\n",
       "      <td>6.983000</td>\n",
       "    </tr>\n",
       "    <tr>\n",
       "      <th>max</th>\n",
       "      <td>2023.000000</td>\n",
       "      <td>940.000000</td>\n",
       "      <td>53.000000</td>\n",
       "      <td>9.900000</td>\n",
       "      <td>2.081757e+06</td>\n",
       "      <td>3187.531000</td>\n",
       "      <td>10.000000</td>\n",
       "    </tr>\n",
       "  </tbody>\n",
       "</table>\n",
       "</div>"
      ],
      "text/plain": [
       "       release_year       runtime      seasons   imdb_score    imdb_votes  \\\n",
       "count  10873.000000  10873.000000  1551.000000  9765.000000  9.753000e+03   \n",
       "mean    2004.077807     85.869033     2.661509     5.970558  8.973232e+03   \n",
       "std       24.883711     34.156332     3.719633     1.362815  4.897767e+04   \n",
       "min     1912.000000      0.000000     1.000000     1.100000  5.000000e+00   \n",
       "25%     2002.000000     65.000000     1.000000     5.100000  1.190000e+02   \n",
       "50%     2015.000000     89.000000     1.000000     6.100000  4.880000e+02   \n",
       "75%     2019.000000    102.000000     3.000000     7.000000  2.493000e+03   \n",
       "max     2023.000000    940.000000    53.000000     9.900000  2.081757e+06   \n",
       "\n",
       "       tmdb_popularity   tmdb_score  \n",
       "count     10302.000000  8747.000000  \n",
       "mean          7.614083     5.977729  \n",
       "std          45.845289     1.512941  \n",
       "min           0.000153     0.500000  \n",
       "25%           1.327250     5.066500  \n",
       "50%           2.658500     6.000000  \n",
       "75%           6.185000     6.983000  \n",
       "max        3187.531000    10.000000  "
      ]
     },
     "execution_count": 5,
     "metadata": {},
     "output_type": "execute_result"
    }
   ],
   "source": [
    "df.describe()"
   ]
  },
  {
   "cell_type": "markdown",
   "id": "3716e3be-f4ef-469a-a10b-1e64572fb67f",
   "metadata": {},
   "source": [
    "### Info Function"
   ]
  },
  {
   "cell_type": "code",
   "execution_count": 6,
   "id": "9c7603e6-c6b1-450d-b09c-fa22f2405920",
   "metadata": {},
   "outputs": [
    {
     "name": "stdout",
     "output_type": "stream",
     "text": [
      "<class 'pandas.core.frame.DataFrame'>\n",
      "RangeIndex: 10873 entries, 0 to 10872\n",
      "Data columns (total 15 columns):\n",
      " #   Column                Non-Null Count  Dtype  \n",
      "---  ------                --------------  -----  \n",
      " 0   id                    10873 non-null  object \n",
      " 1   title                 10873 non-null  object \n",
      " 2   type                  10873 non-null  object \n",
      " 3   description           10729 non-null  object \n",
      " 4   release_year          10873 non-null  int64  \n",
      " 5   age_certification     3688 non-null   object \n",
      " 6   runtime               10873 non-null  int64  \n",
      " 7   genres                10873 non-null  object \n",
      " 8   production_countries  10873 non-null  object \n",
      " 9   seasons               1551 non-null   float64\n",
      " 10  imdb_id               10172 non-null  object \n",
      " 11  imdb_score            9765 non-null   float64\n",
      " 12  imdb_votes            9753 non-null   float64\n",
      " 13  tmdb_popularity       10302 non-null  float64\n",
      " 14  tmdb_score            8747 non-null   float64\n",
      "dtypes: float64(5), int64(2), object(8)\n",
      "memory usage: 1.2+ MB\n"
     ]
    }
   ],
   "source": [
    "# With the info function, we get to know the datatype of each column, they can be objects(strings), integers\n",
    "# float. Also, the function shows the number of non-null values in each column \n",
    "# We also get to know the memory usage using info function\n",
    "df.info()"
   ]
  },
  {
   "cell_type": "markdown",
   "id": "e56b93e2-03dd-4334-af8b-820dccd0c9b0",
   "metadata": {},
   "source": [
    "### More attributes: columns"
   ]
  },
  {
   "cell_type": "code",
   "execution_count": 7,
   "id": "19617661-b64f-495c-a229-a7c7e421583f",
   "metadata": {},
   "outputs": [
    {
     "data": {
      "text/plain": [
       "Index(['id', 'title', 'type', 'description', 'release_year',\n",
       "       'age_certification', 'runtime', 'genres', 'production_countries',\n",
       "       'seasons', 'imdb_id', 'imdb_score', 'imdb_votes', 'tmdb_popularity',\n",
       "       'tmdb_score'],\n",
       "      dtype='object')"
      ]
     },
     "execution_count": 7,
     "metadata": {},
     "output_type": "execute_result"
    }
   ],
   "source": [
    "df.columns"
   ]
  },
  {
   "cell_type": "markdown",
   "id": "33ec8dfc-b9b6-476b-8578-065d42d45763",
   "metadata": {},
   "source": [
    "### Isnull function"
   ]
  },
  {
   "cell_type": "code",
   "execution_count": 8,
   "id": "6e6f6090-1a88-46ac-964a-a75458209055",
   "metadata": {},
   "outputs": [
    {
     "data": {
      "text/plain": [
       "id                         0\n",
       "title                      0\n",
       "type                       0\n",
       "description              144\n",
       "release_year               0\n",
       "age_certification       7185\n",
       "runtime                    0\n",
       "genres                     0\n",
       "production_countries       0\n",
       "seasons                 9322\n",
       "imdb_id                  701\n",
       "imdb_score              1108\n",
       "imdb_votes              1120\n",
       "tmdb_popularity          571\n",
       "tmdb_score              2126\n",
       "dtype: int64"
      ]
     },
     "execution_count": 8,
     "metadata": {},
     "output_type": "execute_result"
    }
   ],
   "source": [
    "# with this function, we can identify the missing values and also quantify them \n",
    "# the function counts the number of missing values\n",
    "# With this function, the data analyst can make informed decisions about data\n",
    "# cleaning, imputation, or even droping columns with excessive null entries\n",
    "\n",
    "df.isnull().sum()"
   ]
  },
  {
   "cell_type": "markdown",
   "id": "a1af434b-58c2-4f93-a906-98a0c4c2264d",
   "metadata": {},
   "source": [
    "## Copy data to a new DataFrame"
   ]
  },
  {
   "cell_type": "code",
   "execution_count": 9,
   "id": "8665364f-2672-47c0-8b4a-a1dce08e7947",
   "metadata": {},
   "outputs": [],
   "source": [
    "data = df.copy()"
   ]
  },
  {
   "cell_type": "code",
   "execution_count": 10,
   "id": "7506ece9-7e7d-448e-9ee1-63421884ff4f",
   "metadata": {},
   "outputs": [
    {
     "data": {
      "text/html": [
       "<div>\n",
       "<style scoped>\n",
       "    .dataframe tbody tr th:only-of-type {\n",
       "        vertical-align: middle;\n",
       "    }\n",
       "\n",
       "    .dataframe tbody tr th {\n",
       "        vertical-align: top;\n",
       "    }\n",
       "\n",
       "    .dataframe thead th {\n",
       "        text-align: right;\n",
       "    }\n",
       "</style>\n",
       "<table border=\"1\" class=\"dataframe\">\n",
       "  <thead>\n",
       "    <tr style=\"text-align: right;\">\n",
       "      <th></th>\n",
       "      <th>id</th>\n",
       "      <th>title</th>\n",
       "      <th>type</th>\n",
       "      <th>description</th>\n",
       "      <th>release_year</th>\n",
       "      <th>age_certification</th>\n",
       "      <th>runtime</th>\n",
       "      <th>genres</th>\n",
       "      <th>production_countries</th>\n",
       "      <th>seasons</th>\n",
       "      <th>imdb_id</th>\n",
       "      <th>imdb_score</th>\n",
       "      <th>imdb_votes</th>\n",
       "      <th>tmdb_popularity</th>\n",
       "      <th>tmdb_score</th>\n",
       "    </tr>\n",
       "  </thead>\n",
       "  <tbody>\n",
       "    <tr>\n",
       "      <th>0</th>\n",
       "      <td>tm87233</td>\n",
       "      <td>It's a Wonderful Life</td>\n",
       "      <td>MOVIE</td>\n",
       "      <td>A holiday favourite for generations...  George...</td>\n",
       "      <td>1946</td>\n",
       "      <td>PG</td>\n",
       "      <td>130</td>\n",
       "      <td>['drama', 'family', 'fantasy', 'romance', 'com...</td>\n",
       "      <td>['US']</td>\n",
       "      <td>NaN</td>\n",
       "      <td>tt0038650</td>\n",
       "      <td>8.6</td>\n",
       "      <td>467766.0</td>\n",
       "      <td>27.611</td>\n",
       "      <td>8.261</td>\n",
       "    </tr>\n",
       "    <tr>\n",
       "      <th>1</th>\n",
       "      <td>tm143047</td>\n",
       "      <td>Duck Soup</td>\n",
       "      <td>MOVIE</td>\n",
       "      <td>Rufus T. Firefly is named president/dictator o...</td>\n",
       "      <td>1933</td>\n",
       "      <td>NaN</td>\n",
       "      <td>69</td>\n",
       "      <td>['comedy', 'war']</td>\n",
       "      <td>['US']</td>\n",
       "      <td>NaN</td>\n",
       "      <td>tt0023969</td>\n",
       "      <td>7.8</td>\n",
       "      <td>60933.0</td>\n",
       "      <td>9.013</td>\n",
       "      <td>7.357</td>\n",
       "    </tr>\n",
       "    <tr>\n",
       "      <th>2</th>\n",
       "      <td>tm83884</td>\n",
       "      <td>His Girl Friday</td>\n",
       "      <td>MOVIE</td>\n",
       "      <td>Hildy, the journalist former wife of newspaper...</td>\n",
       "      <td>1940</td>\n",
       "      <td>NaN</td>\n",
       "      <td>92</td>\n",
       "      <td>['drama', 'romance', 'comedy']</td>\n",
       "      <td>['US']</td>\n",
       "      <td>NaN</td>\n",
       "      <td>tt0032599</td>\n",
       "      <td>7.8</td>\n",
       "      <td>60244.0</td>\n",
       "      <td>14.759</td>\n",
       "      <td>7.433</td>\n",
       "    </tr>\n",
       "    <tr>\n",
       "      <th>3</th>\n",
       "      <td>ts20945</td>\n",
       "      <td>The Three Stooges</td>\n",
       "      <td>SHOW</td>\n",
       "      <td>The Three Stooges were an American vaudeville ...</td>\n",
       "      <td>1934</td>\n",
       "      <td>TV-PG</td>\n",
       "      <td>19</td>\n",
       "      <td>['comedy', 'family']</td>\n",
       "      <td>['US']</td>\n",
       "      <td>26.0</td>\n",
       "      <td>tt0850645</td>\n",
       "      <td>8.5</td>\n",
       "      <td>1149.0</td>\n",
       "      <td>15.424</td>\n",
       "      <td>7.600</td>\n",
       "    </tr>\n",
       "    <tr>\n",
       "      <th>4</th>\n",
       "      <td>tm5012</td>\n",
       "      <td>Red River</td>\n",
       "      <td>MOVIE</td>\n",
       "      <td>Headstrong Thomas Dunson starts a thriving Tex...</td>\n",
       "      <td>1948</td>\n",
       "      <td>NaN</td>\n",
       "      <td>133</td>\n",
       "      <td>['western', 'drama', 'romance', 'action']</td>\n",
       "      <td>['US']</td>\n",
       "      <td>NaN</td>\n",
       "      <td>tt0040724</td>\n",
       "      <td>7.8</td>\n",
       "      <td>32210.0</td>\n",
       "      <td>12.400</td>\n",
       "      <td>7.400</td>\n",
       "    </tr>\n",
       "  </tbody>\n",
       "</table>\n",
       "</div>"
      ],
      "text/plain": [
       "         id                  title   type  \\\n",
       "0   tm87233  It's a Wonderful Life  MOVIE   \n",
       "1  tm143047              Duck Soup  MOVIE   \n",
       "2   tm83884        His Girl Friday  MOVIE   \n",
       "3   ts20945      The Three Stooges   SHOW   \n",
       "4    tm5012              Red River  MOVIE   \n",
       "\n",
       "                                         description  release_year  \\\n",
       "0  A holiday favourite for generations...  George...          1946   \n",
       "1  Rufus T. Firefly is named president/dictator o...          1933   \n",
       "2  Hildy, the journalist former wife of newspaper...          1940   \n",
       "3  The Three Stooges were an American vaudeville ...          1934   \n",
       "4  Headstrong Thomas Dunson starts a thriving Tex...          1948   \n",
       "\n",
       "  age_certification  runtime  \\\n",
       "0                PG      130   \n",
       "1               NaN       69   \n",
       "2               NaN       92   \n",
       "3             TV-PG       19   \n",
       "4               NaN      133   \n",
       "\n",
       "                                              genres production_countries  \\\n",
       "0  ['drama', 'family', 'fantasy', 'romance', 'com...               ['US']   \n",
       "1                                  ['comedy', 'war']               ['US']   \n",
       "2                     ['drama', 'romance', 'comedy']               ['US']   \n",
       "3                               ['comedy', 'family']               ['US']   \n",
       "4          ['western', 'drama', 'romance', 'action']               ['US']   \n",
       "\n",
       "   seasons    imdb_id  imdb_score  imdb_votes  tmdb_popularity  tmdb_score  \n",
       "0      NaN  tt0038650         8.6    467766.0           27.611       8.261  \n",
       "1      NaN  tt0023969         7.8     60933.0            9.013       7.357  \n",
       "2      NaN  tt0032599         7.8     60244.0           14.759       7.433  \n",
       "3     26.0  tt0850645         8.5      1149.0           15.424       7.600  \n",
       "4      NaN  tt0040724         7.8     32210.0           12.400       7.400  "
      ]
     },
     "execution_count": 10,
     "metadata": {},
     "output_type": "execute_result"
    }
   ],
   "source": [
    "data.head()"
   ]
  },
  {
   "cell_type": "markdown",
   "id": "e1c3ed14-c5cf-4d21-961b-2e7d598ecef7",
   "metadata": {},
   "source": [
    "### Handle missing data using fillna function "
   ]
  },
  {
   "cell_type": "code",
   "execution_count": 11,
   "id": "b2b62d64-f9ad-4623-9e19-ec9535620719",
   "metadata": {},
   "outputs": [
    {
     "data": {
      "text/plain": [
       "Index(['id', 'title', 'type', 'description', 'release_year',\n",
       "       'age_certification', 'runtime', 'genres', 'production_countries',\n",
       "       'seasons', 'imdb_id', 'imdb_score', 'imdb_votes', 'tmdb_popularity',\n",
       "       'tmdb_score'],\n",
       "      dtype='object')"
      ]
     },
     "execution_count": 11,
     "metadata": {},
     "output_type": "execute_result"
    }
   ],
   "source": [
    "# We can replace missing data using any particular scalar or value\n",
    "data.columns"
   ]
  },
  {
   "cell_type": "code",
   "execution_count": 12,
   "id": "d81b586b-8421-4a7c-a203-b4d3d9f7e944",
   "metadata": {},
   "outputs": [
    {
     "data": {
      "text/plain": [
       "id                         0\n",
       "title                      0\n",
       "type                       0\n",
       "description              144\n",
       "release_year               0\n",
       "age_certification       7185\n",
       "runtime                    0\n",
       "genres                     0\n",
       "production_countries       0\n",
       "seasons                 9322\n",
       "imdb_id                  701\n",
       "imdb_score              1108\n",
       "imdb_votes              1120\n",
       "tmdb_popularity          571\n",
       "tmdb_score              2126\n",
       "dtype: int64"
      ]
     },
     "execution_count": 12,
     "metadata": {},
     "output_type": "execute_result"
    }
   ],
   "source": [
    "# data.isna().sum()\n",
    "data.isnull().sum()"
   ]
  },
  {
   "cell_type": "code",
   "execution_count": 13,
   "id": "8942919d-80d7-4d55-b9b5-1593adf86035",
   "metadata": {},
   "outputs": [
    {
     "data": {
      "text/plain": [
       "0        8.6\n",
       "1        7.8\n",
       "2        7.8\n",
       "3        8.5\n",
       "4        7.8\n",
       "        ... \n",
       "10868    5.8\n",
       "10869    5.6\n",
       "10870    8.3\n",
       "10871    NaN\n",
       "10872    NaN\n",
       "Name: imdb_score, Length: 10873, dtype: float64"
      ]
     },
     "execution_count": 13,
     "metadata": {},
     "output_type": "execute_result"
    }
   ],
   "source": [
    "data['imdb_score']"
   ]
  },
  {
   "cell_type": "code",
   "execution_count": 14,
   "id": "425c4451-f73c-484c-8387-5d878230bf05",
   "metadata": {},
   "outputs": [
    {
     "data": {
      "text/plain": [
       "1108"
      ]
     },
     "execution_count": 14,
     "metadata": {},
     "output_type": "execute_result"
    }
   ],
   "source": [
    "# count the number of null values in imdb_score column\n",
    "data['imdb_score'].isnull().sum()"
   ]
  },
  {
   "cell_type": "markdown",
   "id": "c52ad682-e9a2-48d0-9e66-8fb8155ef18f",
   "metadata": {},
   "source": [
    "### Fill the empty spaces with zero using fillna function "
   ]
  },
  {
   "cell_type": "code",
   "execution_count": 15,
   "id": "dd550a9a-850b-4a9d-8100-ae3d2f564ba8",
   "metadata": {},
   "outputs": [],
   "source": [
    "data['imdb_score'].fillna(0,inplace=True)"
   ]
  },
  {
   "cell_type": "code",
   "execution_count": 16,
   "id": "e4243b14-2394-4619-8a61-02459a661d53",
   "metadata": {},
   "outputs": [
    {
     "data": {
      "text/plain": [
       "0"
      ]
     },
     "execution_count": 16,
     "metadata": {},
     "output_type": "execute_result"
    }
   ],
   "source": [
    "# check null values\n",
    "data['imdb_score'].isnull().sum()"
   ]
  },
  {
   "cell_type": "code",
   "execution_count": 17,
   "id": "73f2b9e0-d37c-419b-9b14-0401a6570d69",
   "metadata": {},
   "outputs": [
    {
     "data": {
      "text/plain": [
       "0        467766.0\n",
       "1         60933.0\n",
       "2         60244.0\n",
       "3          1149.0\n",
       "4         32210.0\n",
       "           ...   \n",
       "10868      1269.0\n",
       "10869       812.0\n",
       "10870        10.0\n",
       "10871         NaN\n",
       "10872         NaN\n",
       "Name: imdb_votes, Length: 10873, dtype: float64"
      ]
     },
     "execution_count": 17,
     "metadata": {},
     "output_type": "execute_result"
    }
   ],
   "source": [
    "# repeating the same process for imdb_votes \n",
    "data['imdb_votes']"
   ]
  },
  {
   "cell_type": "code",
   "execution_count": 18,
   "id": "cf3974fc-93b9-45dd-a659-c24724aec31e",
   "metadata": {},
   "outputs": [
    {
     "data": {
      "text/plain": [
       "1120"
      ]
     },
     "execution_count": 18,
     "metadata": {},
     "output_type": "execute_result"
    }
   ],
   "source": [
    "data['imdb_votes'].isnull().sum()"
   ]
  },
  {
   "cell_type": "code",
   "execution_count": 19,
   "id": "96c568e9-7d60-488f-be4b-97fceca0bc70",
   "metadata": {},
   "outputs": [],
   "source": [
    "# fill the empty spaces with 0\n",
    "data['imdb_votes'].fillna(0, inplace=True)"
   ]
  },
  {
   "cell_type": "code",
   "execution_count": 20,
   "id": "cd3e5f70-3eda-477b-91ad-6d56df2328f1",
   "metadata": {},
   "outputs": [
    {
     "data": {
      "text/plain": [
       "0"
      ]
     },
     "execution_count": 20,
     "metadata": {},
     "output_type": "execute_result"
    }
   ],
   "source": [
    "# checking for null value in imdb_votes column\n",
    "data['imdb_votes'].isnull().sum()"
   ]
  },
  {
   "cell_type": "code",
   "execution_count": 21,
   "id": "feff4d09-872b-435b-8a8a-d14e199c9275",
   "metadata": {},
   "outputs": [
    {
     "data": {
      "text/plain": [
       "id                         0\n",
       "title                      0\n",
       "type                       0\n",
       "description              144\n",
       "release_year               0\n",
       "age_certification       7185\n",
       "runtime                    0\n",
       "genres                     0\n",
       "production_countries       0\n",
       "seasons                 9322\n",
       "imdb_id                  701\n",
       "imdb_score                 0\n",
       "imdb_votes                 0\n",
       "tmdb_popularity          571\n",
       "tmdb_score              2126\n",
       "dtype: int64"
      ]
     },
     "execution_count": 21,
     "metadata": {},
     "output_type": "execute_result"
    }
   ],
   "source": [
    "# check other columns with null values \n",
    "# data.isna().sum()\n",
    "data.isnull().sum()"
   ]
  },
  {
   "cell_type": "code",
   "execution_count": 22,
   "id": "17157e28-7bbb-4d8a-8425-352e7826622f",
   "metadata": {},
   "outputs": [
    {
     "data": {
      "text/plain": [
       "571"
      ]
     },
     "execution_count": 22,
     "metadata": {},
     "output_type": "execute_result"
    }
   ],
   "source": [
    "# above we still have to fix tmdb_popularity, tmdb_score, genres \n",
    "data['tmdb_popularity'].isnull().sum()"
   ]
  },
  {
   "cell_type": "code",
   "execution_count": 25,
   "id": "6edaa892-c956-4624-bc2f-df2bff0509c5",
   "metadata": {},
   "outputs": [
    {
     "name": "stderr",
     "output_type": "stream",
     "text": [
      "/tmp/ipykernel_25066/3672836349.py:1: FutureWarning: A value is trying to be set on a copy of a DataFrame or Series through chained assignment using an inplace method.\n",
      "The behavior will change in pandas 3.0. This inplace method will never work because the intermediate object on which we are setting values always behaves as a copy.\n",
      "\n",
      "For example, when doing 'df[col].method(value, inplace=True)', try using 'df.method({col: value}, inplace=True)' or df[col] = df[col].method(value) instead, to perform the operation inplace on the original object.\n",
      "\n",
      "\n",
      "  data['tmdb_popularity'].fillna(0, inplace=True)\n"
     ]
    }
   ],
   "source": [
    "data['tmdb_popularity'].fillna(0, inplace=True)"
   ]
  },
  {
   "cell_type": "code",
   "execution_count": 26,
   "id": "98a6ee2b-12ed-46ab-96b5-c66d25b9c5db",
   "metadata": {},
   "outputs": [
    {
     "data": {
      "text/plain": [
       "0"
      ]
     },
     "execution_count": 26,
     "metadata": {},
     "output_type": "execute_result"
    }
   ],
   "source": [
    "data['tmdb_popularity'].isnull().sum()"
   ]
  },
  {
   "cell_type": "code",
   "execution_count": 27,
   "id": "35860053-a2e5-493c-a16e-74345edd2f92",
   "metadata": {},
   "outputs": [
    {
     "data": {
      "text/plain": [
       "2126"
      ]
     },
     "execution_count": 27,
     "metadata": {},
     "output_type": "execute_result"
    }
   ],
   "source": [
    "data['tmdb_score'].isnull().sum()"
   ]
  },
  {
   "cell_type": "code",
   "execution_count": 28,
   "id": "c9df9513-435a-4d47-90ba-256eeaba60f3",
   "metadata": {},
   "outputs": [
    {
     "name": "stderr",
     "output_type": "stream",
     "text": [
      "/tmp/ipykernel_25066/3912202813.py:1: FutureWarning: A value is trying to be set on a copy of a DataFrame or Series through chained assignment using an inplace method.\n",
      "The behavior will change in pandas 3.0. This inplace method will never work because the intermediate object on which we are setting values always behaves as a copy.\n",
      "\n",
      "For example, when doing 'df[col].method(value, inplace=True)', try using 'df.method({col: value}, inplace=True)' or df[col] = df[col].method(value) instead, to perform the operation inplace on the original object.\n",
      "\n",
      "\n",
      "  data['tmdb_score'].fillna(0, inplace=True)\n"
     ]
    }
   ],
   "source": [
    "data['tmdb_score'].fillna(0, inplace=True)"
   ]
  },
  {
   "cell_type": "code",
   "execution_count": 29,
   "id": "02ea51ea-701a-45c4-beac-89dd8d9a843c",
   "metadata": {},
   "outputs": [
    {
     "data": {
      "text/plain": [
       "0"
      ]
     },
     "execution_count": 29,
     "metadata": {},
     "output_type": "execute_result"
    }
   ],
   "source": [
    "data['tmdb_score'].isnull().sum()"
   ]
  },
  {
   "cell_type": "code",
   "execution_count": 30,
   "id": "9c626ec6-39b3-49d7-af13-84e9547db719",
   "metadata": {},
   "outputs": [
    {
     "data": {
      "text/plain": [
       "Index(['id', 'title', 'type', 'description', 'release_year',\n",
       "       'age_certification', 'runtime', 'genres', 'production_countries',\n",
       "       'seasons', 'imdb_id', 'imdb_score', 'imdb_votes', 'tmdb_popularity',\n",
       "       'tmdb_score'],\n",
       "      dtype='object')"
      ]
     },
     "execution_count": 30,
     "metadata": {},
     "output_type": "execute_result"
    }
   ],
   "source": [
    "data.columns"
   ]
  },
  {
   "cell_type": "markdown",
   "id": "b59da5fd-8881-4656-8e2c-73eddd62bc61",
   "metadata": {},
   "source": [
    "### Replacing empty strings"
   ]
  },
  {
   "cell_type": "code",
   "execution_count": 31,
   "id": "703669c9-af6c-4d04-828d-a65ccfbd28ba",
   "metadata": {},
   "outputs": [
    {
     "data": {
      "text/plain": [
       "0        ['drama', 'family', 'fantasy', 'romance', 'com...\n",
       "1                                        ['comedy', 'war']\n",
       "2                           ['drama', 'romance', 'comedy']\n",
       "3                                     ['comedy', 'family']\n",
       "4                ['western', 'drama', 'romance', 'action']\n",
       "                               ...                        \n",
       "10868                      ['action', 'thriller', 'crime']\n",
       "10869                                  ['drama', 'comedy']\n",
       "10870                                           ['comedy']\n",
       "10871                                                   []\n",
       "10872                                            ['drama']\n",
       "Name: genres, Length: 10873, dtype: object"
      ]
     },
     "execution_count": 31,
     "metadata": {},
     "output_type": "execute_result"
    }
   ],
   "source": [
    "data['genres']"
   ]
  },
  {
   "cell_type": "code",
   "execution_count": 32,
   "id": "5ed5da75-c281-457c-b031-77be600b7309",
   "metadata": {},
   "outputs": [],
   "source": [
    "data['genres'] = data['genres'].replace('[]', 'unknown')"
   ]
  },
  {
   "cell_type": "code",
   "execution_count": 33,
   "id": "c71279ea-6860-43c3-9a50-d011eb07f735",
   "metadata": {},
   "outputs": [
    {
     "data": {
      "text/plain": [
       "0        ['drama', 'family', 'fantasy', 'romance', 'com...\n",
       "1                                        ['comedy', 'war']\n",
       "2                           ['drama', 'romance', 'comedy']\n",
       "3                                     ['comedy', 'family']\n",
       "4                ['western', 'drama', 'romance', 'action']\n",
       "                               ...                        \n",
       "10868                      ['action', 'thriller', 'crime']\n",
       "10869                                  ['drama', 'comedy']\n",
       "10870                                           ['comedy']\n",
       "10871                                              unknown\n",
       "10872                                            ['drama']\n",
       "Name: genres, Length: 10873, dtype: object"
      ]
     },
     "execution_count": 33,
     "metadata": {},
     "output_type": "execute_result"
    }
   ],
   "source": [
    "data['genres']"
   ]
  },
  {
   "cell_type": "markdown",
   "id": "356206d2-e6b4-4fcf-b76c-a21badc393c0",
   "metadata": {},
   "source": [
    "## Drop Unnecessary Columns"
   ]
  },
  {
   "cell_type": "code",
   "execution_count": 34,
   "id": "7065b405-2ae6-4734-a2bd-fd0a23c40577",
   "metadata": {},
   "outputs": [
    {
     "data": {
      "text/plain": [
       "Index(['id', 'title', 'type', 'description', 'release_year',\n",
       "       'age_certification', 'runtime', 'genres', 'production_countries',\n",
       "       'seasons', 'imdb_id', 'imdb_score', 'imdb_votes', 'tmdb_popularity',\n",
       "       'tmdb_score'],\n",
       "      dtype='object')"
      ]
     },
     "execution_count": 34,
     "metadata": {},
     "output_type": "execute_result"
    }
   ],
   "source": [
    "data.columns"
   ]
  },
  {
   "cell_type": "code",
   "execution_count": 35,
   "id": "b268574f-bbb0-42c2-93dd-711a337fbc6d",
   "metadata": {},
   "outputs": [
    {
     "data": {
      "text/plain": [
       "id                         0\n",
       "title                      0\n",
       "type                       0\n",
       "description              144\n",
       "release_year               0\n",
       "age_certification       7185\n",
       "runtime                    0\n",
       "genres                     0\n",
       "production_countries       0\n",
       "seasons                 9322\n",
       "imdb_id                  701\n",
       "imdb_score                 0\n",
       "imdb_votes                 0\n",
       "tmdb_popularity            0\n",
       "tmdb_score                 0\n",
       "dtype: int64"
      ]
     },
     "execution_count": 35,
     "metadata": {},
     "output_type": "execute_result"
    }
   ],
   "source": [
    "# columns to be dropped are 'id', 'description', 'age_certification','seasons', and 'imdb_id',\n",
    "# before dropping, lets check all columns to confirm one with more null values\n",
    "data.isnull().sum()"
   ]
  },
  {
   "cell_type": "code",
   "execution_count": 36,
   "id": "b1817d93-6038-438c-a204-6075db8980e8",
   "metadata": {},
   "outputs": [],
   "source": [
    "# above output reveals that description, age_certification, seasons, and imdb_id has null values, one reason to drop\n",
    "# the columns\n",
    "data.drop(columns=['id', 'description','age_certification','seasons','imdb_id'], inplace=True)"
   ]
  },
  {
   "cell_type": "code",
   "execution_count": 37,
   "id": "c3d66b9a-05c0-4dce-897d-6a14c284b744",
   "metadata": {},
   "outputs": [
    {
     "data": {
      "text/plain": [
       "title                   0\n",
       "type                    0\n",
       "release_year            0\n",
       "runtime                 0\n",
       "genres                  0\n",
       "production_countries    0\n",
       "imdb_score              0\n",
       "imdb_votes              0\n",
       "tmdb_popularity         0\n",
       "tmdb_score              0\n",
       "dtype: int64"
      ]
     },
     "execution_count": 37,
     "metadata": {},
     "output_type": "execute_result"
    }
   ],
   "source": [
    "data.isnull().sum()"
   ]
  },
  {
   "cell_type": "markdown",
   "id": "5191678b-0cd2-41b5-83b8-a9626953fbb4",
   "metadata": {},
   "source": [
    "## Convert data DataFrame to excel"
   ]
  },
  {
   "cell_type": "code",
   "execution_count": 38,
   "id": "8aa80a41-f753-4938-be7e-4205640fb038",
   "metadata": {},
   "outputs": [],
   "source": [
    "data.to_excel('prime_movies.xlsx', index=False)"
   ]
  },
  {
   "cell_type": "code",
   "execution_count": 40,
   "id": "ed2ebfdb-c9ae-43fb-8e65-95d98419a20c",
   "metadata": {},
   "outputs": [
    {
     "data": {
      "text/html": [
       "<div>\n",
       "<style scoped>\n",
       "    .dataframe tbody tr th:only-of-type {\n",
       "        vertical-align: middle;\n",
       "    }\n",
       "\n",
       "    .dataframe tbody tr th {\n",
       "        vertical-align: top;\n",
       "    }\n",
       "\n",
       "    .dataframe thead th {\n",
       "        text-align: right;\n",
       "    }\n",
       "</style>\n",
       "<table border=\"1\" class=\"dataframe\">\n",
       "  <thead>\n",
       "    <tr style=\"text-align: right;\">\n",
       "      <th></th>\n",
       "      <th>title</th>\n",
       "      <th>type</th>\n",
       "      <th>release_year</th>\n",
       "      <th>runtime</th>\n",
       "      <th>genres</th>\n",
       "      <th>production_countries</th>\n",
       "      <th>imdb_score</th>\n",
       "      <th>imdb_votes</th>\n",
       "      <th>tmdb_popularity</th>\n",
       "      <th>tmdb_score</th>\n",
       "    </tr>\n",
       "  </thead>\n",
       "  <tbody>\n",
       "    <tr>\n",
       "      <th>0</th>\n",
       "      <td>It's a Wonderful Life</td>\n",
       "      <td>MOVIE</td>\n",
       "      <td>1946</td>\n",
       "      <td>130</td>\n",
       "      <td>['drama', 'family', 'fantasy', 'romance', 'com...</td>\n",
       "      <td>['US']</td>\n",
       "      <td>8.6</td>\n",
       "      <td>467766.0</td>\n",
       "      <td>27.611</td>\n",
       "      <td>8.261</td>\n",
       "    </tr>\n",
       "    <tr>\n",
       "      <th>1</th>\n",
       "      <td>Duck Soup</td>\n",
       "      <td>MOVIE</td>\n",
       "      <td>1933</td>\n",
       "      <td>69</td>\n",
       "      <td>['comedy', 'war']</td>\n",
       "      <td>['US']</td>\n",
       "      <td>7.8</td>\n",
       "      <td>60933.0</td>\n",
       "      <td>9.013</td>\n",
       "      <td>7.357</td>\n",
       "    </tr>\n",
       "    <tr>\n",
       "      <th>2</th>\n",
       "      <td>His Girl Friday</td>\n",
       "      <td>MOVIE</td>\n",
       "      <td>1940</td>\n",
       "      <td>92</td>\n",
       "      <td>['drama', 'romance', 'comedy']</td>\n",
       "      <td>['US']</td>\n",
       "      <td>7.8</td>\n",
       "      <td>60244.0</td>\n",
       "      <td>14.759</td>\n",
       "      <td>7.433</td>\n",
       "    </tr>\n",
       "    <tr>\n",
       "      <th>3</th>\n",
       "      <td>The Three Stooges</td>\n",
       "      <td>SHOW</td>\n",
       "      <td>1934</td>\n",
       "      <td>19</td>\n",
       "      <td>['comedy', 'family']</td>\n",
       "      <td>['US']</td>\n",
       "      <td>8.5</td>\n",
       "      <td>1149.0</td>\n",
       "      <td>15.424</td>\n",
       "      <td>7.600</td>\n",
       "    </tr>\n",
       "    <tr>\n",
       "      <th>4</th>\n",
       "      <td>Red River</td>\n",
       "      <td>MOVIE</td>\n",
       "      <td>1948</td>\n",
       "      <td>133</td>\n",
       "      <td>['western', 'drama', 'romance', 'action']</td>\n",
       "      <td>['US']</td>\n",
       "      <td>7.8</td>\n",
       "      <td>32210.0</td>\n",
       "      <td>12.400</td>\n",
       "      <td>7.400</td>\n",
       "    </tr>\n",
       "  </tbody>\n",
       "</table>\n",
       "</div>"
      ],
      "text/plain": [
       "                   title   type  release_year  runtime  \\\n",
       "0  It's a Wonderful Life  MOVIE          1946      130   \n",
       "1              Duck Soup  MOVIE          1933       69   \n",
       "2        His Girl Friday  MOVIE          1940       92   \n",
       "3      The Three Stooges   SHOW          1934       19   \n",
       "4              Red River  MOVIE          1948      133   \n",
       "\n",
       "                                              genres production_countries  \\\n",
       "0  ['drama', 'family', 'fantasy', 'romance', 'com...               ['US']   \n",
       "1                                  ['comedy', 'war']               ['US']   \n",
       "2                     ['drama', 'romance', 'comedy']               ['US']   \n",
       "3                               ['comedy', 'family']               ['US']   \n",
       "4          ['western', 'drama', 'romance', 'action']               ['US']   \n",
       "\n",
       "   imdb_score  imdb_votes  tmdb_popularity  tmdb_score  \n",
       "0         8.6    467766.0           27.611       8.261  \n",
       "1         7.8     60933.0            9.013       7.357  \n",
       "2         7.8     60244.0           14.759       7.433  \n",
       "3         8.5      1149.0           15.424       7.600  \n",
       "4         7.8     32210.0           12.400       7.400  "
      ]
     },
     "execution_count": 40,
     "metadata": {},
     "output_type": "execute_result"
    }
   ],
   "source": [
    "data.head()"
   ]
  },
  {
   "cell_type": "code",
   "execution_count": null,
   "id": "fd191159-d6b2-4a5d-8803-92e3994dbf72",
   "metadata": {},
   "outputs": [],
   "source": []
  }
 ],
 "metadata": {
  "kernelspec": {
   "display_name": "Python 3 (ipykernel)",
   "language": "python",
   "name": "python3"
  },
  "language_info": {
   "codemirror_mode": {
    "name": "ipython",
    "version": 3
   },
   "file_extension": ".py",
   "mimetype": "text/x-python",
   "name": "python",
   "nbconvert_exporter": "python",
   "pygments_lexer": "ipython3",
   "version": "3.12.4"
  }
 },
 "nbformat": 4,
 "nbformat_minor": 5
}
